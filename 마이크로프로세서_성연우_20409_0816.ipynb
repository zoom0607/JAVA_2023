{
  "nbformat": 4,
  "nbformat_minor": 0,
  "metadata": {
    "colab": {
      "provenance": [],
      "authorship_tag": "ABX9TyMDEYKRvxuurbKRu66RgyG9",
      "include_colab_link": true
    },
    "kernelspec": {
      "name": "python3",
      "display_name": "Python 3"
    },
    "language_info": {
      "name": "python"
    }
  },
  "cells": [
    {
      "cell_type": "markdown",
      "metadata": {
        "id": "view-in-github",
        "colab_type": "text"
      },
      "source": [
        "<a href=\"https://colab.research.google.com/github/zoom0607/JAVA_2023/blob/master/%EB%A7%88%EC%9D%B4%ED%81%AC%EB%A1%9C%ED%94%84%EB%A1%9C%EC%84%B8%EC%84%9C_%EC%84%B1%EC%97%B0%EC%9A%B0_20409_0816.ipynb\" target=\"_parent\"><img src=\"https://colab.research.google.com/assets/colab-badge.svg\" alt=\"Open In Colab\"/></a>"
      ]
    },
    {
      "cell_type": "markdown",
      "source": [
        "변수와 자료형                \n",
        "\n",
        "예제1) 변수 a에 숫자 2를 할당하고, 출력"
      ],
      "metadata": {
        "id": "lwMy5OwRrwsR"
      }
    },
    {
      "cell_type": "code",
      "source": [
        "a = 2\n",
        "print(a)\n",
        "#파이썬의 출력 print(변수), print(\"텍스트\")"
      ],
      "metadata": {
        "colab": {
          "base_uri": "https://localhost:8080/"
        },
        "id": "hQyOX3lorxIf",
        "outputId": "db599445-888c-4be7-849a-3e198421b345"
      },
      "execution_count": null,
      "outputs": [
        {
          "output_type": "stream",
          "name": "stdout",
          "text": [
            "2\n"
          ]
        }
      ]
    },
    {
      "cell_type": "markdown",
      "source": [
        "예제2) 변수 b에 문자 \"micro\"를 할당하고,출력"
      ],
      "metadata": {
        "id": "9NSpRc_FsKqR"
      }
    },
    {
      "cell_type": "code",
      "source": [
        "b = \"micro\" #텍스트 할당  시 따옴표\n",
        "print(b)"
      ],
      "metadata": {
        "colab": {
          "base_uri": "https://localhost:8080/"
        },
        "id": "gC_VsCGYsGo8",
        "outputId": "1488b1bc-0adb-4bed-f83c-f543d3376696"
      },
      "execution_count": null,
      "outputs": [
        {
          "output_type": "stream",
          "name": "stdout",
          "text": [
            "micro\n"
          ]
        }
      ]
    },
    {
      "cell_type": "code",
      "source": [
        "#변수 이름으로 사용 불가능한 예약어들\n",
        "import keyword\n",
        "print(keyword.kwlist)"
      ],
      "metadata": {
        "colab": {
          "base_uri": "https://localhost:8080/"
        },
        "id": "pOYq9Am_sb4g",
        "outputId": "6bcc4f7b-62d0-4bd3-f9af-e3efdef41c14"
      },
      "execution_count": null,
      "outputs": [
        {
          "output_type": "stream",
          "name": "stdout",
          "text": [
            "['False', 'None', 'True', 'and', 'as', 'assert', 'async', 'await', 'break', 'class', 'continue', 'def', 'del', 'elif', 'else', 'except', 'finally', 'for', 'from', 'global', 'if', 'import', 'in', 'is', 'lambda', 'nonlocal', 'not', 'or', 'pass', 'raise', 'return', 'try', 'while', 'with', 'yield']\n"
          ]
        }
      ]
    },
    {
      "cell_type": "markdown",
      "source": [
        "데이터의 유형, 자료형       \n",
        "예제3 : 변수 a에 문자 \"pro\"를 할당하고, 자료형 출력"
      ],
      "metadata": {
        "id": "2Ow7EI0MtGAv"
      }
    },
    {
      "cell_type": "code",
      "source": [
        "a = 'pro'\n",
        "print(type(a))\n",
        "\n"
      ],
      "metadata": {
        "colab": {
          "base_uri": "https://localhost:8080/"
        },
        "id": "g2QwK4AZs6Mt",
        "outputId": "36b151ef-c13d-4467-a3ff-dad3063847bc"
      },
      "execution_count": null,
      "outputs": [
        {
          "output_type": "stream",
          "name": "stdout",
          "text": [
            "<class 'str'>\n"
          ]
        }
      ]
    },
    {
      "cell_type": "markdown",
      "source": [
        "예제4 : 변수 b에 숫자 24를 할당하고, 자료형 출력"
      ],
      "metadata": {
        "id": "-aA51cZkuDMg"
      }
    },
    {
      "cell_type": "code",
      "source": [
        "b = 24\n",
        "print(type(b))"
      ],
      "metadata": {
        "colab": {
          "base_uri": "https://localhost:8080/"
        },
        "id": "lRKIbslouCII",
        "outputId": "c213afb6-bafc-4adf-b8a3-ae7d61734778"
      },
      "execution_count": null,
      "outputs": [
        {
          "output_type": "stream",
          "name": "stdout",
          "text": [
            "<class 'int'>\n"
          ]
        }
      ]
    },
    {
      "cell_type": "markdown",
      "source": [
        "예제5 : 리스트 변수 만들어보기"
      ],
      "metadata": {
        "id": "LPkhzSY6uSYL"
      }
    },
    {
      "cell_type": "code",
      "source": [
        "import random\n",
        "\n",
        "dice = [1,2,3,4,5,6]\n",
        "print(dice)\n",
        "#파이썬 주사위 예제\n",
        "print(random.choice(dice))"
      ],
      "metadata": {
        "colab": {
          "base_uri": "https://localhost:8080/"
        },
        "id": "-gaWNwOeuMHB",
        "outputId": "c25b82fa-f321-4387-bb06-31b64946dd37"
      },
      "execution_count": null,
      "outputs": [
        {
          "output_type": "stream",
          "name": "stdout",
          "text": [
            "[1, 2, 3, 4, 5, 6]\n",
            "5\n"
          ]
        }
      ]
    },
    {
      "cell_type": "markdown",
      "source": [
        "예제6 : 튜플변수를 이용한 동전(앞면, 뒷면) 던지기"
      ],
      "metadata": {
        "id": "cdOKoM0kuYQr"
      }
    },
    {
      "cell_type": "code",
      "source": [
        "import random\n",
        "coin = (\"앞면\",\"뒷면\")\n",
        "print(random.choice(coin))"
      ],
      "metadata": {
        "colab": {
          "base_uri": "https://localhost:8080/"
        },
        "id": "-iJPfZOeu08M",
        "outputId": "acafc7a0-7f38-43fc-f04a-e0a6731d5c11"
      },
      "execution_count": null,
      "outputs": [
        {
          "output_type": "stream",
          "name": "stdout",
          "text": [
            "뒷면\n"
          ]
        }
      ]
    },
    {
      "cell_type": "markdown",
      "source": [
        "if문과 반복문        \n",
        "예제7 : 주사위 랜덤으로 3이 나오면 '당첨', 아니면 '꽝' 출력"
      ],
      "metadata": {
        "id": "CewiEF9au2FO"
      }
    },
    {
      "cell_type": "code",
      "source": [
        "import random\n",
        "\n",
        "masterDice = [1,2,3,4,5,6]\n",
        "\n",
        "choice = random.choice(masterDice)\n",
        "\n",
        "if choice == 3:\n",
        "  print(\"당첨\")\n",
        "else :\n",
        "  print(\"꽝\")"
      ],
      "metadata": {
        "colab": {
          "base_uri": "https://localhost:8080/"
        },
        "id": "GkMFVoB6ve4L",
        "outputId": "ed63730e-54c7-4745-a808-62e45afb03b4"
      },
      "execution_count": null,
      "outputs": [
        {
          "output_type": "stream",
          "name": "stdout",
          "text": [
            "당첨\n"
          ]
        }
      ]
    },
    {
      "cell_type": "markdown",
      "source": [
        "예제8 : coin 리스트에서 랜덤으로 하나를 뽑아 '앞면'을 뽑으면 '앞면입니다.', '뒷면'이면 '뒷면입니다.'가 출력되도록 만들기"
      ],
      "metadata": {
        "id": "SotvqAEWzBoe"
      }
    },
    {
      "cell_type": "code",
      "source": [
        "import random\n",
        "coin = (\"앞면\",\"뒷면\")\n",
        "coinresult = random.choice(coin)\n",
        "\n",
        "if coinresult == \"앞면\":\n",
        "  print(\"앞면입니다.\")\n",
        "else :\n",
        "  print(\"뒷면입니다.\")\n"
      ],
      "metadata": {
        "colab": {
          "base_uri": "https://localhost:8080/"
        },
        "id": "AKxn5Lgvv4dp",
        "outputId": "99310c6d-87a3-4a4e-891b-5108fc9816f6"
      },
      "execution_count": null,
      "outputs": [
        {
          "output_type": "stream",
          "name": "stdout",
          "text": [
            "뒷면입니다.\n"
          ]
        }
      ]
    },
    {
      "cell_type": "markdown",
      "source": [
        "예제9 : table 리스트에 1부터 6까지 할당하고, 이중 랜덤으로 나온 숫자를 변수 \"a\"에 담는다. 변수 a에 담긴 숫자에 따라 \"n번 테이블로 이동합니다.\"를 출력하도록 제어문 만들기\n"
      ],
      "metadata": {
        "id": "YplXHh8Z2sow"
      }
    },
    {
      "cell_type": "code",
      "source": [
        "import random\n",
        "table = [1,2,3,4,5,6]\n",
        "a = random.choice(table)\n",
        "if a == 1:\n",
        "  print(\"1번 테이블로 이동합니다.\")\n",
        "elif a == 2:\n",
        "  print(\"2번 테이블로 이동합니다.\")\n",
        "elif a == 3:\n",
        "  print(\"3번 테이블로 이동합니다.\")\n",
        "elif a == 4:\n",
        "  print(\"4번 테이블로 이동합니다.\")\n",
        "elif a == 5:\n",
        "  print(\"5번 테이블로 이동합니다.\")\n",
        "elif a == 6:\n",
        "  print(\"6번 테이블로 이동합니다.\")"
      ],
      "metadata": {
        "colab": {
          "base_uri": "https://localhost:8080/"
        },
        "id": "zH4KtSwW3U8E",
        "outputId": "19f623f7-0a24-41fe-bfac-1c01675b2361"
      },
      "execution_count": null,
      "outputs": [
        {
          "output_type": "stream",
          "name": "stdout",
          "text": [
            "3번 테이블로 이동합니다.\n"
          ]
        }
      ]
    },
    {
      "cell_type": "markdown",
      "source": [
        "예제10 : 주사위를 던져 눈이 짝수가 나오면 \"짝수 입니다.\", 홀수가 나오면 \"홀수 입니다.\"가 출력되도록 만들기"
      ],
      "metadata": {
        "id": "fPlGMDw92s_H"
      }
    },
    {
      "cell_type": "code",
      "source": [
        "import random\n",
        "\n",
        "dice = [1,2,3,4,5,6]\n",
        "\n",
        "diceresult = random.choice(dice)\n",
        "\n",
        "if diceresult in [1,3,5]:\n",
        "  print(\"홀수입니다.\")\n",
        "elif diceresult in [2,4,6]:\n",
        "  print(\"짝수입니다.\")"
      ],
      "metadata": {
        "colab": {
          "base_uri": "https://localhost:8080/"
        },
        "id": "UWI5pTwF3-qE",
        "outputId": "d97b0134-c05e-4522-9a9f-ab95faa6f159"
      },
      "execution_count": null,
      "outputs": [
        {
          "output_type": "stream",
          "name": "stdout",
          "text": [
            "홀수입니다.\n"
          ]
        }
      ]
    },
    {
      "cell_type": "markdown",
      "source": [
        "파이썬의 반복문\n",
        "\n",
        "예제11 : 동전10번 던지기"
      ],
      "metadata": {
        "id": "Uj0oGyx4zxGW"
      }
    },
    {
      "cell_type": "code",
      "source": [
        "import random\n",
        "coin = ['앞면','뒷면']\n",
        "for i in range(10):\n",
        "  a = random.choice(coin)\n",
        "  print(a)"
      ],
      "metadata": {
        "colab": {
          "base_uri": "https://localhost:8080/"
        },
        "id": "zHtBpMiEzdA1",
        "outputId": "586b80d2-de7d-4aa7-cb89-1d1dc5468438"
      },
      "execution_count": null,
      "outputs": [
        {
          "output_type": "stream",
          "name": "stdout",
          "text": [
            "앞면\n",
            "앞면\n",
            "앞면\n",
            "뒷면\n",
            "뒷면\n",
            "뒷면\n",
            "뒷면\n",
            "앞면\n",
            "앞면\n",
            "앞면\n"
          ]
        }
      ]
    },
    {
      "cell_type": "markdown",
      "source": [
        "예제12 : 예제 11에서 던진 횟수 중 '앞면'이 몇 번 나왔는지 출력"
      ],
      "metadata": {
        "id": "UqeMMFQzz9R9"
      }
    },
    {
      "cell_type": "code",
      "source": [
        "import random\n",
        "coin = ['앞면','뒷면']\n",
        "cnt = 0\n",
        "for i in range(10):\n",
        "  a = random.choice(coin)\n",
        "  print(a)\n",
        "  if a == \"앞면\":\n",
        "   cnt+=1\n",
        "print(\"동전을 던져 앞면이 나온 횟수 : \",cnt)"
      ],
      "metadata": {
        "colab": {
          "base_uri": "https://localhost:8080/"
        },
        "id": "3kPRSWSk0KZy",
        "outputId": "5b93d01f-42c0-40e3-9ab5-1a93d8ee0d76"
      },
      "execution_count": null,
      "outputs": [
        {
          "output_type": "stream",
          "name": "stdout",
          "text": [
            "앞면\n",
            "뒷면\n",
            "앞면\n",
            "뒷면\n",
            "앞면\n",
            "뒷면\n",
            "뒷면\n",
            "뒷면\n",
            "앞면\n",
            "뒷면\n",
            "동전을 던져 앞면이 나온 횟수 :  4\n"
          ]
        }
      ]
    },
    {
      "cell_type": "markdown",
      "source": [
        "예제13 : 주사위를 10만 번 던져 주사위의 각 숫자가 나올 확률을 구하시오"
      ],
      "metadata": {
        "id": "SbA35xSO1F4d"
      }
    },
    {
      "cell_type": "code",
      "source": [
        "import random\n",
        "\n",
        "dice = [1,2,3,4,5,6]\n",
        "\n",
        "cnt1,cnt2,cnt3,cnt4,cnt5,cnt6 =0,0,0,0,0,0\n",
        "\n",
        "for i in range(100000):\n",
        "  a = random.choice(dice)\n",
        "  if a == 1:\n",
        "    cnt1+=1\n",
        "  elif a == 2:\n",
        "    cnt2+=1\n",
        "  elif a == 3:\n",
        "    cnt3+=1\n",
        "  elif a == 4:\n",
        "    cnt4+=1\n",
        "  elif a == 5:\n",
        "    cnt5+=1\n",
        "  elif a == 6:\n",
        "    cnt6+=1\n",
        "print(\"주사위 눈 1이 나올 확률 : \",cnt1/1000,\"%\")\n",
        "print(\"주사위 눈 2이 나올 확률 : \",cnt2/1000,\"%\")\n",
        "print(\"주사위 눈 3이 나올 확률 : \",cnt3/1000,\"%\")\n",
        "print(\"주사위 눈 4이 나올 확률 : \",cnt4/1000,\"%\")\n",
        "print(\"주사위 눈 5이 나올 확률 : \",cnt5/1000,\"%\")\n",
        "print(\"주사위 눈 6이 나올 확률 : \",cnt6/1000,\"%\")"
      ],
      "metadata": {
        "colab": {
          "base_uri": "https://localhost:8080/"
        },
        "id": "2fAvMEwl0yQF",
        "outputId": "d9c967f4-08d3-48b7-afff-cb38ef948d98"
      },
      "execution_count": null,
      "outputs": [
        {
          "output_type": "stream",
          "name": "stdout",
          "text": [
            "주사위 눈 1이 나올 확률 :  16.411 %\n",
            "주사위 눈 2이 나올 확률 :  16.753 %\n",
            "주사위 눈 3이 나올 확률 :  16.656 %\n",
            "주사위 눈 4이 나올 확률 :  16.734 %\n",
            "주사위 눈 5이 나올 확률 :  16.611 %\n",
            "주사위 눈 6이 나올 확률 :  16.835 %\n"
          ]
        }
      ]
    },
    {
      "cell_type": "markdown",
      "source": [
        "예제14 : 1~10중 5,9는 건너뛰기"
      ],
      "metadata": {
        "id": "38iHQlUL4ooi"
      }
    },
    {
      "cell_type": "code",
      "source": [
        "for i in range(1,11):\n",
        "  if i in (5,9):\n",
        "    continue\n",
        "  print(i,\"는 청소하기\")"
      ],
      "metadata": {
        "colab": {
          "base_uri": "https://localhost:8080/"
        },
        "id": "bwLBUlLZ1bXD",
        "outputId": "a2e77912-830f-4a72-8551-d67847c16b7f"
      },
      "execution_count": null,
      "outputs": [
        {
          "output_type": "stream",
          "name": "stdout",
          "text": [
            "1 는 청소하기\n",
            "2 는 청소하기\n",
            "3 는 청소하기\n",
            "4 는 청소하기\n",
            "6 는 청소하기\n",
            "7 는 청소하기\n",
            "8 는 청소하기\n",
            "10 는 청소하기\n"
          ]
        }
      ]
    },
    {
      "cell_type": "markdown",
      "source": [
        "예제15 : 동전을 5번 던지되 앞면이 나오면 중단하기"
      ],
      "metadata": {
        "id": "67JNSi685A3I"
      }
    },
    {
      "cell_type": "code",
      "source": [
        "import random\n",
        "\n",
        "coin = (\"앞면\",\"뒷면\")\n",
        "for i in range(5):\n",
        "  cr = random.choice(coin)\n",
        "  print(cr)\n",
        "  if cr == \"앞면\":\n",
        "    print(\"중지되었습니다.\")\n",
        "    break"
      ],
      "metadata": {
        "colab": {
          "base_uri": "https://localhost:8080/"
        },
        "id": "vwoKku9648ra",
        "outputId": "1adcc076-449a-426f-ce26-45bc573764ce"
      },
      "execution_count": null,
      "outputs": [
        {
          "output_type": "stream",
          "name": "stdout",
          "text": [
            "뒷면\n",
            "뒷면\n",
            "뒷면\n",
            "앞면\n",
            "중지되었습니다.\n"
          ]
        }
      ]
    },
    {
      "cell_type": "markdown",
      "source": [
        "예제16 : 숫자를 2개를 입력받아 두 숫자의 최대공약수를 출력"
      ],
      "metadata": {
        "id": "JjNuYzRE5xIZ"
      }
    },
    {
      "cell_type": "code",
      "source": [
        "fn = int(input(\"숫자를 입력해주세요 : \"))\n",
        "sn = int(input(\"숫자를 입력해주세요 : \"))\n",
        "for i in range(min(fn,sn),0,-1):\n",
        "  if fn % i == 0 and sn % i == 0:\n",
        "    break\n",
        "print(\"최대공약수는 \",i,\"입니다.\")"
      ],
      "metadata": {
        "colab": {
          "base_uri": "https://localhost:8080/"
        },
        "id": "vDfEaV0y5sIG",
        "outputId": "c13405b9-711c-4b52-996d-7c37894688f7"
      },
      "execution_count": null,
      "outputs": [
        {
          "output_type": "stream",
          "name": "stdout",
          "text": [
            "숫자를 입력해주세요 : 20\n",
            "숫자를 입력해주세요 : 30\n",
            "최대공약수는  10 입니다.\n"
          ]
        }
      ]
    },
    {
      "cell_type": "markdown",
      "source": [
        "예제17 : 구구단으로 반복문 만들기"
      ],
      "metadata": {
        "id": "MFN9nKrd7zca"
      }
    },
    {
      "cell_type": "code",
      "source": [
        "for i in range(1,10):\n",
        "  print(\"2 X\",i,\"=\",2*i)"
      ],
      "metadata": {
        "colab": {
          "base_uri": "https://localhost:8080/"
        },
        "id": "-ZA7ByQY7S4y",
        "outputId": "a60950b2-223a-40c1-db2f-2b0aec296f8b"
      },
      "execution_count": null,
      "outputs": [
        {
          "output_type": "stream",
          "name": "stdout",
          "text": [
            "2 X 1 = 2\n",
            "2 X 2 = 4\n",
            "2 X 3 = 6\n",
            "2 X 4 = 8\n",
            "2 X 5 = 10\n",
            "2 X 6 = 12\n",
            "2 X 7 = 14\n",
            "2 X 8 = 16\n",
            "2 X 9 = 18\n"
          ]
        }
      ]
    },
    {
      "cell_type": "markdown",
      "source": [
        "예제18 : 구구단을 이중 반복문으로 구현하기"
      ],
      "metadata": {
        "id": "wwIdHxoZ8ZqA"
      }
    },
    {
      "cell_type": "code",
      "source": [
        "for i in range(1,10):\n",
        "  for j in range(1,10):\n",
        "    print(i,\"X\",j,\"=\",i*j)"
      ],
      "metadata": {
        "colab": {
          "base_uri": "https://localhost:8080/"
        },
        "id": "9ogt7VZt8Hfd",
        "outputId": "2d0e12a7-7b7a-4de3-be4b-a4715c9c4430"
      },
      "execution_count": null,
      "outputs": [
        {
          "output_type": "stream",
          "name": "stdout",
          "text": [
            "1 X 1 = 1\n",
            "1 X 2 = 2\n",
            "1 X 3 = 3\n",
            "1 X 4 = 4\n",
            "1 X 5 = 5\n",
            "1 X 6 = 6\n",
            "1 X 7 = 7\n",
            "1 X 8 = 8\n",
            "1 X 9 = 9\n",
            "2 X 1 = 2\n",
            "2 X 2 = 4\n",
            "2 X 3 = 6\n",
            "2 X 4 = 8\n",
            "2 X 5 = 10\n",
            "2 X 6 = 12\n",
            "2 X 7 = 14\n",
            "2 X 8 = 16\n",
            "2 X 9 = 18\n",
            "3 X 1 = 3\n",
            "3 X 2 = 6\n",
            "3 X 3 = 9\n",
            "3 X 4 = 12\n",
            "3 X 5 = 15\n",
            "3 X 6 = 18\n",
            "3 X 7 = 21\n",
            "3 X 8 = 24\n",
            "3 X 9 = 27\n",
            "4 X 1 = 4\n",
            "4 X 2 = 8\n",
            "4 X 3 = 12\n",
            "4 X 4 = 16\n",
            "4 X 5 = 20\n",
            "4 X 6 = 24\n",
            "4 X 7 = 28\n",
            "4 X 8 = 32\n",
            "4 X 9 = 36\n",
            "5 X 1 = 5\n",
            "5 X 2 = 10\n",
            "5 X 3 = 15\n",
            "5 X 4 = 20\n",
            "5 X 5 = 25\n",
            "5 X 6 = 30\n",
            "5 X 7 = 35\n",
            "5 X 8 = 40\n",
            "5 X 9 = 45\n",
            "6 X 1 = 6\n",
            "6 X 2 = 12\n",
            "6 X 3 = 18\n",
            "6 X 4 = 24\n",
            "6 X 5 = 30\n",
            "6 X 6 = 36\n",
            "6 X 7 = 42\n",
            "6 X 8 = 48\n",
            "6 X 9 = 54\n",
            "7 X 1 = 7\n",
            "7 X 2 = 14\n",
            "7 X 3 = 21\n",
            "7 X 4 = 28\n",
            "7 X 5 = 35\n",
            "7 X 6 = 42\n",
            "7 X 7 = 49\n",
            "7 X 8 = 56\n",
            "7 X 9 = 63\n",
            "8 X 1 = 8\n",
            "8 X 2 = 16\n",
            "8 X 3 = 24\n",
            "8 X 4 = 32\n",
            "8 X 5 = 40\n",
            "8 X 6 = 48\n",
            "8 X 7 = 56\n",
            "8 X 8 = 64\n",
            "8 X 9 = 72\n",
            "9 X 1 = 9\n",
            "9 X 2 = 18\n",
            "9 X 3 = 27\n",
            "9 X 4 = 36\n",
            "9 X 5 = 45\n",
            "9 X 6 = 54\n",
            "9 X 7 = 63\n",
            "9 X 8 = 72\n",
            "9 X 9 = 81\n"
          ]
        }
      ]
    },
    {
      "cell_type": "markdown",
      "source": [
        "예제18-1 : 구구단 2단을 while문으로 구현해보기"
      ],
      "metadata": {
        "id": "LtyWPAuI8hIo"
      }
    },
    {
      "cell_type": "code",
      "source": [
        "a = 1\n",
        "while a < 10:\n",
        "  print(\"2 X\",a,2*a)\n",
        "  a+=1"
      ],
      "metadata": {
        "colab": {
          "base_uri": "https://localhost:8080/"
        },
        "id": "B2NwVYqj8TsD",
        "outputId": "4f05d5e4-d13d-44de-d0f8-d49eb464f41f"
      },
      "execution_count": null,
      "outputs": [
        {
          "output_type": "stream",
          "name": "stdout",
          "text": [
            "2 X 1 2\n",
            "2 X 2 4\n",
            "2 X 3 6\n",
            "2 X 4 8\n",
            "2 X 5 10\n",
            "2 X 6 12\n",
            "2 X 7 14\n",
            "2 X 8 16\n",
            "2 X 9 18\n"
          ]
        }
      ]
    },
    {
      "cell_type": "markdown",
      "source": [
        "예제19-1 : 구구단을 while문으로 구현하여 출력하기"
      ],
      "metadata": {
        "id": "3qCPUcMq9VPx"
      }
    },
    {
      "cell_type": "code",
      "source": [
        "a = 1\n",
        "\n",
        "while a < 10:\n",
        "  b=1\n",
        "\n",
        "  while b < 10:\n",
        "    print(a,\"X\",b,\"=\",a*b)\n",
        "    b+=1\n",
        "  a+=1"
      ],
      "metadata": {
        "colab": {
          "base_uri": "https://localhost:8080/"
        },
        "id": "XH150sCQ9NG9",
        "outputId": "73dc689d-804f-4e02-98f6-6b70ff4647d2"
      },
      "execution_count": null,
      "outputs": [
        {
          "output_type": "stream",
          "name": "stdout",
          "text": [
            "1 X 1 = 1\n",
            "1 X 2 = 2\n",
            "1 X 3 = 3\n",
            "1 X 4 = 4\n",
            "1 X 5 = 5\n",
            "1 X 6 = 6\n",
            "1 X 7 = 7\n",
            "1 X 8 = 8\n",
            "1 X 9 = 9\n",
            "2 X 1 = 2\n",
            "2 X 2 = 4\n",
            "2 X 3 = 6\n",
            "2 X 4 = 8\n",
            "2 X 5 = 10\n",
            "2 X 6 = 12\n",
            "2 X 7 = 14\n",
            "2 X 8 = 16\n",
            "2 X 9 = 18\n",
            "3 X 1 = 3\n",
            "3 X 2 = 6\n",
            "3 X 3 = 9\n",
            "3 X 4 = 12\n",
            "3 X 5 = 15\n",
            "3 X 6 = 18\n",
            "3 X 7 = 21\n",
            "3 X 8 = 24\n",
            "3 X 9 = 27\n",
            "4 X 1 = 4\n",
            "4 X 2 = 8\n",
            "4 X 3 = 12\n",
            "4 X 4 = 16\n",
            "4 X 5 = 20\n",
            "4 X 6 = 24\n",
            "4 X 7 = 28\n",
            "4 X 8 = 32\n",
            "4 X 9 = 36\n",
            "5 X 1 = 5\n",
            "5 X 2 = 10\n",
            "5 X 3 = 15\n",
            "5 X 4 = 20\n",
            "5 X 5 = 25\n",
            "5 X 6 = 30\n",
            "5 X 7 = 35\n",
            "5 X 8 = 40\n",
            "5 X 9 = 45\n",
            "6 X 1 = 6\n",
            "6 X 2 = 12\n",
            "6 X 3 = 18\n",
            "6 X 4 = 24\n",
            "6 X 5 = 30\n",
            "6 X 6 = 36\n",
            "6 X 7 = 42\n",
            "6 X 8 = 48\n",
            "6 X 9 = 54\n",
            "7 X 1 = 7\n",
            "7 X 2 = 14\n",
            "7 X 3 = 21\n",
            "7 X 4 = 28\n",
            "7 X 5 = 35\n",
            "7 X 6 = 42\n",
            "7 X 7 = 49\n",
            "7 X 8 = 56\n",
            "7 X 9 = 63\n",
            "8 X 1 = 8\n",
            "8 X 2 = 16\n",
            "8 X 3 = 24\n",
            "8 X 4 = 32\n",
            "8 X 5 = 40\n",
            "8 X 6 = 48\n",
            "8 X 7 = 56\n",
            "8 X 8 = 64\n",
            "8 X 9 = 72\n",
            "9 X 1 = 9\n",
            "9 X 2 = 18\n",
            "9 X 3 = 27\n",
            "9 X 4 = 36\n",
            "9 X 5 = 45\n",
            "9 X 6 = 54\n",
            "9 X 7 = 63\n",
            "9 X 8 = 72\n",
            "9 X 9 = 81\n"
          ]
        }
      ]
    },
    {
      "cell_type": "markdown",
      "source": [
        "예제19 : 띄어쓰기 없는 문자열 슬라이싱"
      ],
      "metadata": {
        "id": "_rz6VgCwAbv9"
      }
    },
    {
      "cell_type": "code",
      "source": [
        "a = '서울로봇고등학교'\n",
        "print(a)\n",
        "print(a[2:4])\n",
        "print(a[0:2])\n",
        "print(a[4:8])"
      ],
      "metadata": {
        "colab": {
          "base_uri": "https://localhost:8080/"
        },
        "id": "Bi3x1GJI9tZG",
        "outputId": "05840038-a24e-422a-f6fb-09b789f63527"
      },
      "execution_count": null,
      "outputs": [
        {
          "output_type": "stream",
          "name": "stdout",
          "text": [
            "서울로봇고등학교\n",
            "로봇\n",
            "서울\n",
            "고등학교\n"
          ]
        }
      ]
    },
    {
      "cell_type": "markdown",
      "source": [
        "예제20 : 띄어쓰기, 기호가 있는 문자열에서 \"딱 하나\" 슬라이싱"
      ],
      "metadata": {
        "id": "y_V1Q7vgBwUJ"
      }
    },
    {
      "cell_type": "code",
      "source": [
        "a = '한가지만 한다.딱 하나'\n",
        "\n",
        "print(a[8:])\n",
        "print(a[-4:])"
      ],
      "metadata": {
        "colab": {
          "base_uri": "https://localhost:8080/"
        },
        "id": "yqOYQCZoAwl8",
        "outputId": "f4ab346c-1831-4b89-8c32-6296c4fb4ed0"
      },
      "execution_count": null,
      "outputs": [
        {
          "output_type": "stream",
          "name": "stdout",
          "text": [
            "딱 하나\n",
            "딱 하나\n"
          ]
        }
      ]
    },
    {
      "cell_type": "markdown",
      "source": [
        "예제21"
      ],
      "metadata": {
        "id": "-Xtn6Y3uCX9_"
      }
    },
    {
      "cell_type": "code",
      "source": [
        "a = '기상 후 1시간을 얼마나 의미 있게 보내느냐에 따라 그날 하루가 결정됩니다.'\n",
        "\n",
        "print(a.find(\"의미\"))\n",
        "print(a.index(\"의미\"))\n",
        "print(a.count(\"의미\"))\n",
        "print(a.find(\"습관\"))\n"
      ],
      "metadata": {
        "colab": {
          "base_uri": "https://localhost:8080/"
        },
        "id": "MtbkAo2fCPW9",
        "outputId": "e6f43f1a-d911-4f80-e1fd-29c3821b6185"
      },
      "execution_count": null,
      "outputs": [
        {
          "output_type": "stream",
          "name": "stdout",
          "text": [
            "14\n",
            "14\n",
            "1\n",
            "-1\n"
          ]
        }
      ]
    },
    {
      "cell_type": "markdown",
      "source": [
        "예제22 : 대소문자 구별없이 \"future\"가 몇 번 나오는지 출력하기"
      ],
      "metadata": {
        "id": "zutyubOsISOu"
      }
    },
    {
      "cell_type": "code",
      "source": [
        "a = ['Future','fUture','today','fuTure','futuRe']\n",
        "cnt = 0\n",
        "for j in a:\n",
        "  if j.lower() == \"future\":\n",
        "    cnt+=1\n",
        "print(\"future :\",cnt)"
      ],
      "metadata": {
        "colab": {
          "base_uri": "https://localhost:8080/"
        },
        "id": "anQdn8v_Cs76",
        "outputId": "380abac2-64b4-4892-db52-f96b8aa1f36b"
      },
      "execution_count": null,
      "outputs": [
        {
          "output_type": "stream",
          "name": "stdout",
          "text": [
            "future : 4\n"
          ]
        }
      ]
    },
    {
      "cell_type": "markdown",
      "source": [
        "예제23 : 스티브 잡스 연설문에서 'today' 횟수 출력\n"
      ],
      "metadata": {
        "id": "WzhhW1TnIn_m"
      }
    },
    {
      "cell_type": "code",
      "source": [
        "from google.colab import drive\n",
        "drive.mount('/content/gdrive')"
      ],
      "metadata": {
        "colab": {
          "base_uri": "https://localhost:8080/"
        },
        "id": "mi10Us4SFRiC",
        "outputId": "5588bdd6-62e1-45b1-c0ab-38a78d99d519"
      },
      "execution_count": null,
      "outputs": [
        {
          "output_type": "stream",
          "name": "stdout",
          "text": [
            "Mounted at /content/gdrive\n"
          ]
        }
      ]
    },
    {
      "cell_type": "code",
      "source": [
        "jobs = open(\"/content/gdrive/MyDrive/Colab Notebooks/jobs.txt\")\n",
        "data = jobs.read()\n",
        "data2 = data.split()\n",
        "cnt = 0\n",
        "for j in data2:\n",
        "  if j.lower() == 'today':\n",
        "    cnt+=1\n",
        "print(cnt)"
      ],
      "metadata": {
        "id": "4OQfnSsaFWVG",
        "colab": {
          "base_uri": "https://localhost:8080/"
        },
        "outputId": "d6bfa19f-bb62-4019-b376-4b9673fdb39e"
      },
      "execution_count": 13,
      "outputs": [
        {
          "output_type": "stream",
          "name": "stdout",
          "text": [
            "3\n"
          ]
        }
      ]
    },
    {
      "cell_type": "code",
      "source": [],
      "metadata": {
        "id": "n-459Su1GmWw"
      },
      "execution_count": null,
      "outputs": []
    }
  ]
}